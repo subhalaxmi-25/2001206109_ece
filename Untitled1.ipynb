{
  "nbformat": 4,
  "nbformat_minor": 0,
  "metadata": {
    "colab": {
      "provenance": [],
      "authorship_tag": "ABX9TyOljDRGKAvN8I3MJ/Efu/4N",
      "include_colab_link": true
    },
    "kernelspec": {
      "name": "python3",
      "display_name": "Python 3"
    },
    "language_info": {
      "name": "python"
    }
  },
  "cells": [
    {
      "cell_type": "markdown",
      "metadata": {
        "id": "view-in-github",
        "colab_type": "text"
      },
      "source": [
        "<a href=\"https://colab.research.google.com/github/subhalaxmi-25/2001206109_ece/blob/main/Untitled1.ipynb\" target=\"_parent\"><img src=\"https://colab.research.google.com/assets/colab-badge.svg\" alt=\"Open In Colab\"/></a>"
      ]
    },
    {
      "cell_type": "code",
      "execution_count": 2,
      "metadata": {
        "id": "K5H8XxTCeSr6",
        "colab": {
          "base_uri": "https://localhost:8080/"
        },
        "outputId": "a68b16ef-7f0d-484c-c78e-109a0ae309f4"
      },
      "outputs": [
        {
          "output_type": "stream",
          "name": "stdout",
          "text": [
            "20 100 141 301\n",
            "100.5 150.0\n",
            "(5+3.14j) 3.14 5.0\n"
          ]
        }
      ],
      "source": [
        "x=0b10100\n",
        "y=100\n",
        "z=0o215\n",
        "u=0x12d\n",
        "#Float Literal\n",
        "float_1 = 100.5\n",
        "float_2 = 1.5e2\n",
        "#Complex Literal\n",
        "a = 5+3.14j\n",
        "print(x,y,z,u)\n",
        "print(float_1,float_2)\n",
        "print(a,a.imag,a.real)"
      ]
    },
    {
      "cell_type": "code",
      "source": [
        "a=int(input('Enter 1st no'))\n",
        "b=int(input('Enter 2nd no'))\n",
        "c=a+b\n",
        "print('c=',c)"
      ],
      "metadata": {
        "colab": {
          "base_uri": "https://localhost:8080/"
        },
        "id": "Nqw5tpEHxeYI",
        "outputId": "4d0d0bf5-1bce-4e35-9e96-d34daea8c0cc"
      },
      "execution_count": 4,
      "outputs": [
        {
          "output_type": "stream",
          "name": "stdout",
          "text": [
            "Enter 1st no2\n",
            "Enter 2nd no5\n",
            "c= 7\n"
          ]
        }
      ]
    },
    {
      "cell_type": "code",
      "source": [
        "# using of / , // and ** in Arithmetic Operator\n",
        "a=2\n",
        "b=6\n",
        "c=a/b\n",
        "print(c)\n",
        "d=a//b\n",
        "print(d)\n",
        "e=a**b\n",
        "print(e)"
      ],
      "metadata": {
        "colab": {
          "base_uri": "https://localhost:8080/"
        },
        "id": "jmLIzFtN0Ec1",
        "outputId": "8cb87c64-5852-424a-9ba3-518d0b85242d"
      },
      "execution_count": 6,
      "outputs": [
        {
          "output_type": "stream",
          "name": "stdout",
          "text": [
            "0.3333333333333333\n",
            "0\n",
            "64\n"
          ]
        }
      ]
    }
  ]
}